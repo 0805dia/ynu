{
 "cells": [
  {
   "cell_type": "markdown",
   "metadata": {},
   "source": [
    "### sys 모듈 사용하기"
   ]
  },
  {
   "cell_type": "code",
   "execution_count": 1,
   "metadata": {},
   "outputs": [
    {
     "name": "stdout",
     "output_type": "stream",
     "text": [
      "--f=\"c:\\Users\\as4761285 001\\AppData\\Roaming\\jupyter\\runtime\\kernel-v2-244483sr5iIsTDpv.json\"\n"
     ]
    }
   ],
   "source": [
    "import sys\n",
    "\n",
    "args = sys.argv[1:]\n",
    "for i in args:\n",
    "    print(i)"
   ]
  },
  {
   "cell_type": "code",
   "execution_count": 3,
   "metadata": {},
   "outputs": [],
   "source": [
    "# 프롬포프 변경\n",
    "\n",
    "import sys\n",
    "sys.ps1 = \"안녕:\""
   ]
  },
  {
   "cell_type": "code",
   "execution_count": 4,
   "metadata": {},
   "outputs": [
    {
     "data": {
      "text/plain": [
       "'c:\\\\Users\\\\as4761285 001\\\\Documents\\\\이지민\\\\파이썬\\\\04_입출력'"
      ]
     },
     "execution_count": 4,
     "metadata": {},
     "output_type": "execute_result"
    }
   ],
   "source": [
    "#os 모듈\n",
    "\n",
    "import os\n",
    "\n",
    "#현재 주소 생성(절대주소)\n",
    "os.getcwd()      #현재폴더를 불러옴\n"
   ]
  },
  {
   "cell_type": "code",
   "execution_count": 6,
   "metadata": {},
   "outputs": [
    {
     "data": {
      "text/plain": [
       "['04-1_함수.ipynb',\n",
       " '04-2_사용자입출력.ipynb',\n",
       " '04-3_csv파일읽고쓰기.ipynb',\n",
       " '04-3_엑셀파일읽고쓰기.ipynb',\n",
       " '04-3_워드파일읽고쓰기.ipynb',\n",
       " '04-3_파일읽고쓰기.ipynb',\n",
       " '04-4_프로그램입출력.ipynb',\n",
       " 'desktop.ini',\n",
       " 'example.csv',\n",
       " 'example.docx',\n",
       " 'foo.txt',\n",
       " 'FY2019.csv',\n",
       " 'sys1.py',\n",
       " '새파일.txt',\n",
       " '서울.xlsx',\n",
       " '수강생리스트.xlsx']"
      ]
     },
     "execution_count": 6,
     "metadata": {},
     "output_type": "execute_result"
    }
   ],
   "source": [
    "os.listdir()  #현재 폴더에 있는 파일과 폴더를 불러옴\n"
   ]
  },
  {
   "cell_type": "code",
   "execution_count": 10,
   "metadata": {},
   "outputs": [
    {
     "data": {
      "text/plain": [
       "False"
      ]
     },
     "execution_count": 10,
     "metadata": {},
     "output_type": "execute_result"
    }
   ],
   "source": [
    "os.path.isdir(\"./폴더\")  #폴더 인지 아닌지를 판명\n",
    "os.path.isdir(\"./sys1.py\")"
   ]
  },
  {
   "cell_type": "code",
   "execution_count": 11,
   "metadata": {},
   "outputs": [
    {
     "ename": "SyntaxError",
     "evalue": "incomplete input (1712233064.py, line 5)",
     "output_type": "error",
     "traceback": [
      "\u001b[1;36m  Cell \u001b[1;32mIn[11], line 5\u001b[1;36m\u001b[0m\n\u001b[1;33m    \u001b[0m\n\u001b[1;37m    ^\u001b[0m\n\u001b[1;31mSyntaxError\u001b[0m\u001b[1;31m:\u001b[0m incomplete input\n"
     ]
    }
   ],
   "source": [
    "data = os.listdir()\n",
    "print(data)\n",
    "\n",
    "for item in date:\n",
    "    "
   ]
  },
  {
   "cell_type": "code",
   "execution_count": 12,
   "metadata": {},
   "outputs": [],
   "source": [
    "import os\n",
    "\n",
    "# 폴더를 만들때\n",
    "\n",
    "os.makedirs(\"./영남대\")"
   ]
  },
  {
   "cell_type": "code",
   "execution_count": 13,
   "metadata": {},
   "outputs": [
    {
     "data": {
      "text/plain": [
       "'./영남대\\\\그림.jpg'"
      ]
     },
     "execution_count": 13,
     "metadata": {},
     "output_type": "execute_result"
    }
   ],
   "source": [
    "import os\n",
    "os.path.join(\"./영남대\",\"그림.jpg\")"
   ]
  },
  {
   "cell_type": "code",
   "execution_count": null,
   "metadata": {},
   "outputs": [],
   "source": []
  }
 ],
 "metadata": {
  "kernelspec": {
   "display_name": "Python 3",
   "language": "python",
   "name": "python3"
  },
  "language_info": {
   "codemirror_mode": {
    "name": "ipython",
    "version": 3
   },
   "file_extension": ".py",
   "mimetype": "text/x-python",
   "name": "python",
   "nbconvert_exporter": "python",
   "pygments_lexer": "ipython3",
   "version": "3.12.4"
  }
 },
 "nbformat": 4,
 "nbformat_minor": 2
}
