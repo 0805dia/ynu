{
 "cells": [
  {
   "cell_type": "code",
   "execution_count": 3,
   "metadata": {},
   "outputs": [
    {
     "name": "stdout",
     "output_type": "stream",
     "text": [
      "15\n"
     ]
    }
   ],
   "source": [
    "# 파이썬의 함수의 구조\n",
    "\n",
    "# def 함수_이름(매개변수):            *함수 이름 역시 변수 이름 생성 조건과 같음\n",
    "#     수행할 문장1 \n",
    "#     수행할 문장2\n",
    "\n",
    "\n",
    "def add(a,b):\n",
    "    return a + b\n",
    "\n",
    "result = add(10,5) #15\n",
    "print(result)"
   ]
  },
  {
   "cell_type": "code",
   "execution_count": 4,
   "metadata": {},
   "outputs": [
    {
     "name": "stdout",
     "output_type": "stream",
     "text": [
      "7\n"
     ]
    }
   ],
   "source": [
    "def add(a,b):\n",
    "    return a + b\n",
    "\n",
    "\n",
    "a = 3\n",
    "b = 4\n",
    "c = add(a,b)       #add(3,4) ->7\n",
    "print(c)"
   ]
  },
  {
   "cell_type": "code",
   "execution_count": 5,
   "metadata": {},
   "outputs": [
    {
     "name": "stdout",
     "output_type": "stream",
     "text": [
      "7\n"
     ]
    }
   ],
   "source": [
    "# 일반적인 함수 (입력값이 있고, 리턴값이 있는 함수)\n",
    "\n",
    "\n",
    "def add(a,b):\n",
    "    result = a + b\n",
    "    return result\n",
    "\n",
    "total = add(3,4)\n",
    "print(total)"
   ]
  },
  {
   "cell_type": "code",
   "execution_count": 6,
   "metadata": {},
   "outputs": [
    {
     "name": "stdout",
     "output_type": "stream",
     "text": [
      "hi\n"
     ]
    }
   ],
   "source": [
    "# 입력값이 없는 함수\n",
    "\n",
    "def say():\n",
    "    return \"hi\"\n",
    "\n",
    "\n",
    "total = say()\n",
    "print(total)"
   ]
  },
  {
   "cell_type": "code",
   "execution_count": 7,
   "metadata": {},
   "outputs": [
    {
     "name": "stdout",
     "output_type": "stream",
     "text": [
      "3,4의 합은 7\n",
      "None\n"
     ]
    }
   ],
   "source": [
    "#리턴값이 없는 함수\n",
    "\n",
    "def add(a,b):\n",
    "    print(f\"{a},{b}의 합은 {a+b}\")\n",
    "\n",
    "total = add(3,4)\n",
    "print(total)"
   ]
  },
  {
   "cell_type": "code",
   "execution_count": 8,
   "metadata": {},
   "outputs": [
    {
     "name": "stdout",
     "output_type": "stream",
     "text": [
      "hi\n",
      "None\n"
     ]
    }
   ],
   "source": [
    "# 입력값도 없고 리턴값도 없는 함수\n",
    "\n",
    "def say():\n",
    "    print(\"hi\")\n",
    "\n",
    "total = say()\n",
    "print(total)"
   ]
  },
  {
   "cell_type": "code",
   "execution_count": 10,
   "metadata": {},
   "outputs": [
    {
     "name": "stdout",
     "output_type": "stream",
     "text": [
      "4\n"
     ]
    }
   ],
   "source": [
    "#매개변수를 지정하여 호출하기\n",
    "\n",
    "def sub(a,b):\n",
    "    return a - b\n",
    "\n",
    "result = sub (a=7,b=3)  #sub(7,3)\n",
    "print(result)"
   ]
  },
  {
   "cell_type": "code",
   "execution_count": 11,
   "metadata": {},
   "outputs": [
    {
     "name": "stdout",
     "output_type": "stream",
     "text": [
      "4\n"
     ]
    }
   ],
   "source": [
    "def sub(a,b):\n",
    "    return a - b\n",
    "\n",
    "result = sub (b=3,a=7)  #sub(7,3)\n",
    "print(result)\n",
    "\n",
    "\n",
    "# 변수 많아지면 필요한 것만 지정해서 넣을 수 있기 하기 위함"
   ]
  },
  {
   "cell_type": "code",
   "execution_count": null,
   "metadata": {},
   "outputs": [],
   "source": [
    "def add(a,b,c,d):\n",
    "    return a + b + c + d\n",
    "\n",
    "result = add(10,c=5,b=5,c=5)\n",
    "print(result)\n",
    "\n",
    "result = add(10,5,d=5,c=5)  #순서대로면 자동인식\n",
    "print(result)\n",
    "\n",
    "# result = add(d=10,5,5,5)   #오류남 첫번째에 d가 나왔기때문\n",
    "# print(result)"
   ]
  },
  {
   "cell_type": "code",
   "execution_count": 1,
   "metadata": {},
   "outputs": [
    {
     "name": "stdout",
     "output_type": "stream",
     "text": [
      "Life/is/too/short/python\n"
     ]
    }
   ],
   "source": [
    "a= \"python\"\n",
    "print(\"Life\",\"is\",\"too\",\"short\",a , sep=\"/\")\n"
   ]
  },
  {
   "cell_type": "code",
   "execution_count": 22,
   "metadata": {},
   "outputs": [
    {
     "name": "stdout",
     "output_type": "stream",
     "text": [
      "(1, 2, 3)\n",
      "<class 'tuple'>\n",
      "6\n",
      "(1, 2, 3, 4, 5, 6, 7, 8, 9, 10)\n",
      "<class 'tuple'>\n",
      "55\n"
     ]
    }
   ],
   "source": [
    "#여러개의 입력값을 받는 함수 만들기\n",
    "\n",
    "def add_many(*args):        #*매개변수 => 입력값을 튜플로 만들어줌\n",
    "    print(args)\n",
    "    print(type(args))\n",
    "    result = 0\n",
    "    for i in args:\n",
    "        result += i\n",
    "    return result\n",
    "\n",
    "result = add_many(1,2,3)\n",
    "print(result)\n",
    "\n",
    "\n",
    "result = add_many(1,2,3,4,5,6,7,8,9,10)\n",
    "print(result )"
   ]
  },
  {
   "cell_type": "code",
   "execution_count": 27,
   "metadata": {},
   "outputs": [
    {
     "name": "stdout",
     "output_type": "stream",
     "text": [
      "10\n",
      "24\n"
     ]
    }
   ],
   "source": [
    "def add_mul(choice, *args):\n",
    "    if choice == \"add\":\n",
    "        result = 0\n",
    "        for i in args:\n",
    "            result += i\n",
    "    elif choice == \"mul\":\n",
    "        result = 1\n",
    "        for i in args:\n",
    "            result = result * i\n",
    "    return result\n",
    "\n",
    "\n",
    "total = add_mul(\"add\",1,2,3,4)\n",
    "print(total)\n",
    "\n",
    "# total2 = add_mul(1,2,3,4)\n",
    "# print(total2)                 #오류난다\n",
    "\n",
    "\n",
    "total = add_mul(\"mul\",1,2,3,4)\n",
    "print(total)\n"
   ]
  },
  {
   "cell_type": "code",
   "execution_count": 29,
   "metadata": {},
   "outputs": [
    {
     "name": "stdout",
     "output_type": "stream",
     "text": [
      "{'a': 1}\n",
      "{'name': 'jimin', 'age': 25}\n"
     ]
    }
   ],
   "source": [
    "# 키워드 매개변수  **kwargs\n",
    "\n",
    "def print_kwargs(**kwargs):\n",
    "    print(kwargs)\n",
    "\n",
    "\n",
    "print_kwargs(a=1)\n",
    "# print_kwargs(1)   오류남   (딕셔너리는 key 와 value 두 가지 값이 필요하기 때문)\n",
    "print_kwargs(name=\"jimin\", age = 25)"
   ]
  },
  {
   "cell_type": "code",
   "execution_count": 2,
   "metadata": {},
   "outputs": [
    {
     "name": "stdout",
     "output_type": "stream",
     "text": [
      "(7, 12)\n"
     ]
    }
   ],
   "source": [
    "# 함수의 리턴값은 하나이다\n",
    "\n",
    "def add_and_mul(a,b):\n",
    "    return a + b, a*b\n",
    "\n",
    "result = add_and_mul(3,4)\n",
    "print(result)"
   ]
  },
  {
   "cell_type": "code",
   "execution_count": 3,
   "metadata": {},
   "outputs": [
    {
     "name": "stdout",
     "output_type": "stream",
     "text": [
      "19 84\n"
     ]
    }
   ],
   "source": [
    "result1 , result2 =add_and_mul(7,12)\n",
    "\n",
    "print(result1,result2)"
   ]
  },
  {
   "cell_type": "code",
   "execution_count": 4,
   "metadata": {},
   "outputs": [
    {
     "name": "stdout",
     "output_type": "stream",
     "text": [
      "5\n"
     ]
    }
   ],
   "source": [
    "def add_and_mul(a,b):\n",
    "    return a+b\n",
    "    return a*b\n",
    "\n",
    "result = add_and_mul(2,3)\n",
    "print(result)"
   ]
  },
  {
   "cell_type": "code",
   "execution_count": 5,
   "metadata": {},
   "outputs": [
    {
     "name": "stdout",
     "output_type": "stream",
     "text": [
      "나의 별명은 야호입니다\n",
      "None\n"
     ]
    }
   ],
   "source": [
    "def say_nick(nick):\n",
    "    if nick == \"바보\":\n",
    "        return\n",
    "    print(f\"나의 별명은 {nick}입니다\")\n",
    "\n",
    "result = say_nick(\"야호\")\n",
    "print(result)"
   ]
  },
  {
   "cell_type": "code",
   "execution_count": 10,
   "metadata": {},
   "outputs": [
    {
     "name": "stdout",
     "output_type": "stream",
     "text": [
      "나의 이름은 홍길동입니다\n",
      "나이는 30살 입니다\n",
      "남자입니다\n",
      "나의 이름은 홍길동입니다\n",
      "나이는 30살 입니다\n",
      "여자입니다.\n"
     ]
    }
   ],
   "source": [
    "#매개변수에 초깃값 미리 설정하기\n",
    "\n",
    "\n",
    "def  say_myself(name,age,man= True):\n",
    "    print(f\"나의 이름은 {name}입니다\")\n",
    "    print(f\"나이는 {age}살 입니다\")\n",
    "    if man:\n",
    "        print(\"남자입니다\")\n",
    "    else:\n",
    "        print(\"여자입니다.\")\n",
    "\n",
    "\n",
    "\n",
    "say_myself(\"홍길동\",30)\n",
    "\n",
    "say_myself(\"홍길동\",30 ,False)"
   ]
  },
  {
   "cell_type": "code",
   "execution_count": 12,
   "metadata": {},
   "outputs": [
    {
     "ename": "SyntaxError",
     "evalue": "parameter without a default follows parameter with a default (399089432.py, line 1)",
     "output_type": "error",
     "traceback": [
      "\u001b[1;36m  Cell \u001b[1;32mIn[12], line 1\u001b[1;36m\u001b[0m\n\u001b[1;33m    def  say_myself(name,man= True, age):\u001b[0m\n\u001b[1;37m                                    ^\u001b[0m\n\u001b[1;31mSyntaxError\u001b[0m\u001b[1;31m:\u001b[0m parameter without a default follows parameter with a default\n"
     ]
    }
   ],
   "source": [
    "# def  say_myself(name,man= True, age):      #초기값을 설정하는 것은 맨 뒤로 보내야한다 (아니면 오류남)\n",
    "#     print(f\"나의 이름은 {name}입니다\")\n",
    "#     print(f\"나이는 {age}살 입니다\")\n",
    "#     if man:\n",
    "#         print(\"남자입니다\")\n",
    "#     else:\n",
    "#         print(\"여자입니다.\")\n",
    "\n",
    "\n",
    "\n",
    "# say_myself(\"홍길동\",30)                  #초기값을 설정해도 입력값에 조건을 입력하면 입력한 값으로 출력된다\n"
   ]
  },
  {
   "cell_type": "code",
   "execution_count": 14,
   "metadata": {},
   "outputs": [
    {
     "name": "stdout",
     "output_type": "stream",
     "text": [
      "함수내부: 2\n",
      "1\n"
     ]
    }
   ],
   "source": [
    "# 함수 안에서 선언한 변수의 효력범위\n",
    "\n",
    "a = 1\n",
    "\n",
    "def vartest(a):\n",
    "    a+=1        #a = 2\n",
    "    print(\"함수내부:\",a)\n",
    "\n",
    "vartest(a)\n",
    "print(a)"
   ]
  },
  {
   "cell_type": "code",
   "execution_count": 15,
   "metadata": {},
   "outputs": [
    {
     "name": "stdout",
     "output_type": "stream",
     "text": [
      "2\n"
     ]
    }
   ],
   "source": [
    "a = 1\n",
    "\n",
    "def vartest(a):\n",
    "    a+=1\n",
    "    return a           #함수 안에서만 사용가능\n",
    "\n",
    "a = vartest(a)         #새로 할당했기에 2로 나옴\n",
    "print(a)"
   ]
  },
  {
   "cell_type": "code",
   "execution_count": 17,
   "metadata": {},
   "outputs": [
    {
     "name": "stdout",
     "output_type": "stream",
     "text": [
      "2\n"
     ]
    }
   ],
   "source": [
    "b = 1\n",
    "\n",
    "def vartest():\n",
    "    global a   # 모든 파이썬에서 사용하겠다는 의미 (함수 안에서 생성했지만 전역적으로 사용한다)\n",
    "    a = b + 1\n",
    "\n",
    "vartest()\n",
    "print(a)"
   ]
  },
  {
   "cell_type": "code",
   "execution_count": 19,
   "metadata": {},
   "outputs": [
    {
     "name": "stdout",
     "output_type": "stream",
     "text": [
      "7\n"
     ]
    }
   ],
   "source": [
    "# lambda 예약어\n",
    "\n",
    "# 함수_이름 = lambda 매개변수1, 매개변수2.... : 수행할 문장1 , ...\n",
    "\n",
    "# def add(a,b):\n",
    "#     return a + b \n",
    "\n",
    "add = lambda a,b: a+b\n",
    "result = add(3,4)\n",
    "print(result)\n"
   ]
  },
  {
   "cell_type": "code",
   "execution_count": null,
   "metadata": {},
   "outputs": [],
   "source": []
  }
 ],
 "metadata": {
  "kernelspec": {
   "display_name": "Python 3",
   "language": "python",
   "name": "python3"
  },
  "language_info": {
   "codemirror_mode": {
    "name": "ipython",
    "version": 3
   },
   "file_extension": ".py",
   "mimetype": "text/x-python",
   "name": "python",
   "nbconvert_exporter": "python",
   "pygments_lexer": "ipython3",
   "version": "3.12.4"
  }
 },
 "nbformat": 4,
 "nbformat_minor": 2
}
