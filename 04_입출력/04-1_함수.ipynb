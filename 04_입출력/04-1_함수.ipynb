{
 "cells": [
  {
   "cell_type": "code",
   "execution_count": 3,
   "metadata": {},
   "outputs": [
    {
     "name": "stdout",
     "output_type": "stream",
     "text": [
      "15\n"
     ]
    }
   ],
   "source": [
    "# 파이썬의 함수의 구조\n",
    "\n",
    "# def 함수_이름(매개변수):            *함수 이름 역시 변수 이름 생성 조건과 같음\n",
    "#     수행할 문장1 \n",
    "#     수행할 문장2\n",
    "\n",
    "\n",
    "def add(a,b):\n",
    "    return a + b\n",
    "\n",
    "result = add(10,5) #15\n",
    "print(result)"
   ]
  },
  {
   "cell_type": "code",
   "execution_count": 4,
   "metadata": {},
   "outputs": [
    {
     "name": "stdout",
     "output_type": "stream",
     "text": [
      "7\n"
     ]
    }
   ],
   "source": [
    "def add(a,b):\n",
    "    return a + b\n",
    "\n",
    "\n",
    "a = 3\n",
    "b = 4\n",
    "c = add(a,b)       #add(3,4) ->7\n",
    "print(c)"
   ]
  },
  {
   "cell_type": "code",
   "execution_count": 5,
   "metadata": {},
   "outputs": [
    {
     "name": "stdout",
     "output_type": "stream",
     "text": [
      "7\n"
     ]
    }
   ],
   "source": [
    "# 일반적인 함수 (입력값이 있고, 리턴값이 있는 함수)\n",
    "\n",
    "\n",
    "def add(a,b):\n",
    "    result = a + b\n",
    "    return result\n",
    "\n",
    "total = add(3,4)\n",
    "print(total)"
   ]
  },
  {
   "cell_type": "code",
   "execution_count": 6,
   "metadata": {},
   "outputs": [
    {
     "name": "stdout",
     "output_type": "stream",
     "text": [
      "hi\n"
     ]
    }
   ],
   "source": [
    "# 입력값이 없는 함수\n",
    "\n",
    "def say():\n",
    "    return \"hi\"\n",
    "\n",
    "\n",
    "total = say()\n",
    "print(total)"
   ]
  },
  {
   "cell_type": "code",
   "execution_count": 7,
   "metadata": {},
   "outputs": [
    {
     "name": "stdout",
     "output_type": "stream",
     "text": [
      "3,4의 합은 7\n",
      "None\n"
     ]
    }
   ],
   "source": [
    "#리턴값이 없는 함수\n",
    "\n",
    "def add(a,b):\n",
    "    print(f\"{a},{b}의 합은 {a+b}\")\n",
    "\n",
    "total = add(3,4)\n",
    "print(total)"
   ]
  },
  {
   "cell_type": "code",
   "execution_count": 8,
   "metadata": {},
   "outputs": [
    {
     "name": "stdout",
     "output_type": "stream",
     "text": [
      "hi\n",
      "None\n"
     ]
    }
   ],
   "source": [
    "# 입력값도 없고 리턴값도 없는 함수\n",
    "\n",
    "def say():\n",
    "    print(\"hi\")\n",
    "\n",
    "total = say()\n",
    "print(total)"
   ]
  },
  {
   "cell_type": "code",
   "execution_count": 10,
   "metadata": {},
   "outputs": [
    {
     "name": "stdout",
     "output_type": "stream",
     "text": [
      "4\n"
     ]
    }
   ],
   "source": [
    "#매개변수를 지정하여 호출하기\n",
    "\n",
    "def sub(a,b):\n",
    "    return a - b\n",
    "\n",
    "result = sub (a=7,b=3)  #sub(7,3)\n",
    "print(result)"
   ]
  },
  {
   "cell_type": "code",
   "execution_count": 11,
   "metadata": {},
   "outputs": [
    {
     "name": "stdout",
     "output_type": "stream",
     "text": [
      "4\n"
     ]
    }
   ],
   "source": [
    "def sub(a,b):\n",
    "    return a - b\n",
    "\n",
    "result = sub (b=3,a=7)  #sub(7,3)\n",
    "print(result)\n",
    "\n",
    "\n",
    "# 변수 많아지면 필요한 것만 지정해서 넣을 수 있기 하기 위함"
   ]
  },
  {
   "cell_type": "code",
   "execution_count": null,
   "metadata": {},
   "outputs": [],
   "source": [
    "def add(a,b,c,d):\n",
    "    return a + b + c + d\n",
    "\n",
    "result = add(10,c=5,b=5,c=5)\n",
    "print(result)\n",
    "\n",
    "result = add(10,5,d=5,c=5)\n",
    "print(result)\n",
    "\n",
    "# result = add(d=10,5,5,5)   #오류남\n",
    "# print(result)"
   ]
  },
  {
   "cell_type": "code",
   "execution_count": 15,
   "metadata": {},
   "outputs": [
    {
     "name": "stdout",
     "output_type": "stream",
     "text": [
      "Life is too short python\n"
     ]
    }
   ],
   "source": [
    "a= \"python\"\n",
    "print(\"Life\",\"is\",\"too\",\"short\",a)\n"
   ]
  },
  {
   "cell_type": "code",
   "execution_count": 22,
   "metadata": {},
   "outputs": [
    {
     "name": "stdout",
     "output_type": "stream",
     "text": [
      "(1, 2, 3)\n",
      "<class 'tuple'>\n",
      "6\n",
      "(1, 2, 3, 4, 5, 6, 7, 8, 9, 10)\n",
      "<class 'tuple'>\n",
      "55\n"
     ]
    }
   ],
   "source": [
    "#여러개의 입력값을 받는 함수 만들기\n",
    "\n",
    "def add_many(*args):        #*매개변수 => 입력값을 튜플로 만들어줌\n",
    "    print(args)\n",
    "    print(type(args))\n",
    "    result = 0\n",
    "    for i in args:\n",
    "        result += i\n",
    "    return result\n",
    "\n",
    "result = add_many(1,2,3)\n",
    "print(result)\n",
    "\n",
    "\n",
    "result = add_many(1,2,3,4,5,6,7,8,9,10)\n",
    "print(result)"
   ]
  },
  {
   "cell_type": "code",
   "execution_count": 27,
   "metadata": {},
   "outputs": [
    {
     "name": "stdout",
     "output_type": "stream",
     "text": [
      "10\n",
      "24\n"
     ]
    }
   ],
   "source": [
    "def add_mul(choice, *args):\n",
    "    if choice == \"add\":\n",
    "        result = 0\n",
    "        for i in args:\n",
    "            result += i\n",
    "    elif choice == \"mul\":\n",
    "        result = 1\n",
    "        for i in args:\n",
    "            result = result * i\n",
    "    return result\n",
    "\n",
    "\n",
    "total = add_mul(\"add\",1,2,3,4)\n",
    "print(total)\n",
    "\n",
    "# total2 = add_mul(1,2,3,4)\n",
    "# print(total2)                 #오류난다\n",
    "\n",
    "\n",
    "total = add_mul(\"mul\",1,2,3,4)\n",
    "print(total)\n"
   ]
  },
  {
   "cell_type": "code",
   "execution_count": 29,
   "metadata": {},
   "outputs": [
    {
     "name": "stdout",
     "output_type": "stream",
     "text": [
      "{'a': 1}\n",
      "{'name': 'jimin', 'age': 25}\n"
     ]
    }
   ],
   "source": [
    "# 키워드 매개변수  **kwargs\n",
    "\n",
    "def print_kwargs(**kwargs):\n",
    "    print(kwargs)\n",
    "\n",
    "\n",
    "print_kwargs(a=1)\n",
    "# print_kwargs(1)   오류남   (딕셔너리는 key 와 value 두 가지 값이 필요하기 때문)\n",
    "print_kwargs(name=\"jimin\", age = 25)"
   ]
  },
  {
   "cell_type": "code",
   "execution_count": null,
   "metadata": {},
   "outputs": [],
   "source": []
  }
 ],
 "metadata": {
  "kernelspec": {
   "display_name": "Python 3",
   "language": "python",
   "name": "python3"
  },
  "language_info": {
   "codemirror_mode": {
    "name": "ipython",
    "version": 3
   },
   "file_extension": ".py",
   "mimetype": "text/x-python",
   "name": "python",
   "nbconvert_exporter": "python",
   "pygments_lexer": "ipython3",
   "version": "3.12.4"
  }
 },
 "nbformat": 4,
 "nbformat_minor": 2
}
