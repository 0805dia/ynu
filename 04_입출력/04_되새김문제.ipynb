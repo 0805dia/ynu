{
 "cells": [
  {
   "cell_type": "code",
   "execution_count": 3,
   "metadata": {},
   "outputs": [],
   "source": [
    "#홀수 짝수 판별하기\n",
    "\n",
    "def is_odd(number):\n",
    "    if number % 2 != 0:\n",
    "        return True\n",
    "    else:\n",
    "        return False"
   ]
  },
  {
   "cell_type": "code",
   "execution_count": 5,
   "metadata": {},
   "outputs": [
    {
     "name": "stdout",
     "output_type": "stream",
     "text": [
      "1.5\n"
     ]
    },
    {
     "data": {
      "text/plain": [
       "3.0"
      ]
     },
     "execution_count": 5,
     "metadata": {},
     "output_type": "execute_result"
    }
   ],
   "source": [
    "#모든 입력의 평균값 구하기\n",
    "\n",
    "def avg_numbers(*args):\n",
    "    result = 0\n",
    "    for i in args:\n",
    "        result += i\n",
    "    return result/len(args)\n",
    "\n",
    "print(avg_numbers(1,2))\n",
    "avg_numbers(1,2,3,4,5)"
   ]
  },
  {
   "cell_type": "code",
   "execution_count": 6,
   "metadata": {},
   "outputs": [
    {
     "name": "stdout",
     "output_type": "stream",
     "text": [
      "두 수의 합은 11입니다\n"
     ]
    }
   ],
   "source": [
    "#프로그램 오류 수정하기1\n",
    "\n",
    "input1 = int(input(\"첫번째 숫자를 입력하세요: \"))\n",
    "input2 = int(input(\"두번째 숫자를 입력하세요: \"))\n",
    "\n",
    "\n",
    "total = input1 + input2\n",
    "print(f\"두 수의 합은 {total}입니다\")"
   ]
  },
  {
   "cell_type": "code",
   "execution_count": 13,
   "metadata": {},
   "outputs": [
    {
     "name": "stdout",
     "output_type": "stream",
     "text": [
      "life is short\n"
     ]
    }
   ],
   "source": [
    "#프로그램 오류 수정하기 2 \n",
    "\n",
    "f1 = open(\"test.txt\",\"w\")\n",
    "f1.write(\"life is short\")\n",
    "f1.close()\n",
    "\n",
    "f2 = open(\"test.txt\",'r')\n",
    "print(f2.read())\n"
   ]
  },
  {
   "cell_type": "code",
   "execution_count": 17,
   "metadata": {},
   "outputs": [],
   "source": [
    "#사용자 입력 저장하기 \n",
    "\n",
    "user_input = input(\"저장할 내용을 입력하세요:\")\n",
    "f = open(\"test.txt\",\"a\")\n",
    "f.write(user_input)\n",
    "f.write(\"/n\")\n",
    "f.close()"
   ]
  },
  {
   "cell_type": "code",
   "execution_count": null,
   "metadata": {},
   "outputs": [],
   "source": []
  }
 ],
 "metadata": {
  "kernelspec": {
   "display_name": "Python 3",
   "language": "python",
   "name": "python3"
  },
  "language_info": {
   "codemirror_mode": {
    "name": "ipython",
    "version": 3
   },
   "file_extension": ".py",
   "mimetype": "text/x-python",
   "name": "python",
   "nbconvert_exporter": "python",
   "pygments_lexer": "ipython3",
   "version": "3.12.4"
  }
 },
 "nbformat": 4,
 "nbformat_minor": 2
}
