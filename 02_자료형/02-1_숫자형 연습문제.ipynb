{
 "cells": [
  {
   "cell_type": "markdown",
   "metadata": {},
   "source": [
    "#연습문제 "
   ]
  },
  {
   "cell_type": "code",
   "execution_count": 1,
   "metadata": {},
   "outputs": [
    {
     "name": "stdout",
     "output_type": "stream",
     "text": [
      "3.141500\n",
      "3.1415\n",
      "3.1415\n",
      "==============================\n",
      "3.141500\n",
      "3.1415\n",
      "3.1415\n",
      "==============================\n",
      "3.1\n",
      "3.1\n",
      "3.1\n"
     ]
    }
   ],
   "source": [
    "#문제1\n",
    "a = 3.1415\n",
    "\n",
    "print(\"%f\" %3.1415)\n",
    "print(\"{}\" .format(3.1415))\n",
    "print(f\"{3.1415}\" )\n",
    "print(\"=\"*30)\n",
    "\n",
    "print(\"%f\" %a)\n",
    "print(\"{}\" .format(a))\n",
    "print(f\"{a}\" )\n",
    "print(\"=\"*30)\n",
    "\n",
    "print(\"%.1f\" %a)\n",
    "print(\"{:.1f}\" .format(a))\n",
    "print(f\"{a:.1f}\" )\n",
    "\n",
    "#드래그 후 alt + 방향키하면 옮겨짐"
   ]
  },
  {
   "cell_type": "code",
   "execution_count": 2,
   "metadata": {},
   "outputs": [
    {
     "name": "stdout",
     "output_type": "stream",
     "text": [
      "<class 'str'>\n",
      "<class 'int'>\n"
     ]
    }
   ],
   "source": [
    "#문제2\n",
    "a= \"1234\"\n",
    "print(type(a))\n",
    "\n",
    "b=int(a)\n",
    "print(type(b))"
   ]
  },
  {
   "cell_type": "code",
   "execution_count": 3,
   "metadata": {},
   "outputs": [
    {
     "name": "stdout",
     "output_type": "stream",
     "text": [
      "6\n",
      "-2\n",
      "0.5\n",
      "8\n",
      "0\n",
      "2\n"
     ]
    }
   ],
   "source": [
    "#문제3\n",
    "a= 2\n",
    "b= 4\n",
    "\n",
    "print(a+b)\n",
    "print(a-b)\n",
    "print(a/b)\n",
    "print(a*b)\n",
    "print(a//b)\n",
    "print(a%b)"
   ]
  },
  {
   "cell_type": "code",
   "execution_count": 4,
   "metadata": {},
   "outputs": [
    {
     "name": "stdout",
     "output_type": "stream",
     "text": [
      "4\n"
     ]
    }
   ],
   "source": [
    "#문제4\n",
    "밑 = 6\n",
    "지수 = 2\n",
    "\n",
    "print(밑^지수)"
   ]
  },
  {
   "cell_type": "code",
   "execution_count": 5,
   "metadata": {},
   "outputs": [
    {
     "name": "stdout",
     "output_type": "stream",
     "text": [
      "11\n"
     ]
    }
   ],
   "source": [
    "#문제5\n",
    "숫자1 = int(input(\"숫자를 입력하시오\"))\n",
    "숫자2 = int(input(\"숫자를 입력하시오\"))\n",
    "print(숫자1 + 숫자2)"
   ]
  },
  {
   "cell_type": "code",
   "execution_count": 1,
   "metadata": {},
   "outputs": [
    {
     "name": "stdout",
     "output_type": "stream",
     "text": [
      "5 + 4 = 9\n",
      "5 + 4 = 20\n",
      "5 + 4 = 1.25\n",
      "5 + 4 = 1\n",
      "5 + 4 = 1\n"
     ]
    }
   ],
   "source": [
    "#문제6\n",
    "숫자3 = int(input(\"숫자를 입력하시오\"))\n",
    "숫자4 = int(input(\"숫자를 입력하시오\"))\n",
    "print(f\"{숫자3} + {숫자4} = {숫자3+숫자4}\")\n",
    "print(f\"{숫자3} + {숫자4} = {숫자3*숫자4}\")\n",
    "print(f\"{숫자3} + {숫자4} = {숫자3/숫자4}\")\n",
    "print(f\"{숫자3} + {숫자4} = {숫자3//숫자4}\")\n",
    "print(f\"{숫자3} + {숫자4} = {숫자3%숫자4}\")"
   ]
  },
  {
   "cell_type": "code",
   "execution_count": null,
   "metadata": {},
   "outputs": [],
   "source": []
  }
 ],
 "metadata": {
  "kernelspec": {
   "display_name": "Python 3",
   "language": "python",
   "name": "python3"
  },
  "language_info": {
   "codemirror_mode": {
    "name": "ipython",
    "version": 3
   },
   "file_extension": ".py",
   "mimetype": "text/x-python",
   "name": "python",
   "nbconvert_exporter": "python",
   "pygments_lexer": "ipython3",
   "version": "3.12.4"
  }
 },
 "nbformat": 4,
 "nbformat_minor": 2
}
