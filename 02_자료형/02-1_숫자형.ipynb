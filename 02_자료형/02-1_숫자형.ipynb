{
 "cells": [
  {
   "cell_type": "markdown",
   "metadata": {},
   "source": [
    "# 숫자형\n",
    "## 숫자형\n",
    "### 숫자형"
   ]
  },
  {
   "cell_type": "markdown",
   "metadata": {},
   "source": [
    "### 숫자형은 어떻게 만들고 사용할까?\n",
    "* 정수 , 실수, 8진수 , 16진수"
   ]
  },
  {
   "cell_type": "code",
   "execution_count": null,
   "metadata": {},
   "outputs": [],
   "source": [
    "# 정수형\n",
    "a = 123\n",
    "b = -178\n",
    "c = 0 \n",
    "\n",
    "a\n",
    "b\n",
    "# 주피터 노트북의 특징 -  맨 마지막 것만 출력된다\n",
    "# 삭제 하고 싶다면? dd 빠르게 누르면 됨(단축키)\n",
    "# 추가하고 싶다면? b를 누르면 새 창이 나타남"
   ]
  },
  {
   "cell_type": "code",
   "execution_count": null,
   "metadata": {},
   "outputs": [],
   "source": [
    "a = 123\n",
    "b = -178\n",
    "c = 0 \n",
    "\n",
    "print(a)\n",
    "print(b)\n",
    "print(c)"
   ]
  },
  {
   "cell_type": "code",
   "execution_count": null,
   "metadata": {},
   "outputs": [],
   "source": [
    "print(type(a))\n",
    "print(type(111))\n",
    "print(type(\"111\"))\n",
    "#int = 정수\n",
    "#str = 문자열\n",
    "#111 과 \"111\"은 다르다"
   ]
  },
  {
   "cell_type": "code",
   "execution_count": null,
   "metadata": {},
   "outputs": [],
   "source": [
    "#실수형\n",
    "a = 1.2\n",
    "b= -3.45\n",
    "\n",
    "print(a)\n",
    "print(b)\n",
    "\n",
    "print(type(a))\n",
    "print(type(b))\n",
    "\n",
    "#float = 실수형"
   ]
  },
  {
   "cell_type": "code",
   "execution_count": null,
   "metadata": {},
   "outputs": [],
   "source": [
    "a = 4.24E10   # 4.24 x 10의 10승을 의미\n",
    "b = 4.24E-10\n",
    "\n",
    "print(a)\n",
    "print(b)"
   ]
  },
  {
   "cell_type": "code",
   "execution_count": null,
   "metadata": {},
   "outputs": [],
   "source": [
    "#8진수\n",
    "a = 0o177\n",
    "\n",
    "#1\n",
    "b = 0o1\n",
    "\n",
    "# 8*1+1\n",
    "c = 0o11\n",
    "\n",
    "# 1 * (8*8) + 1*(8) +1\n",
    "d = 0o111\n",
    "\n",
    "# 1 * (8*8*8) + 1*(8*8) + 1*(8) +1\n",
    "e=0o1111\n",
    "print(a)\n",
    "print(b)\n",
    "print(c)\n",
    "print(d)"
   ]
  },
  {
   "cell_type": "code",
   "execution_count": null,
   "metadata": {},
   "outputs": [],
   "source": [
    "#16진수 \n",
    "\n",
    "# 3 * (16*16) + 15 * (16) +15\n",
    "a = 0x3ff\n",
    "\n",
    "#1\n",
    "b = 0x1\n",
    "\n",
    "# 1 * (16) +1\n",
    "c =0x11\n",
    "\n",
    "#1 * (16*16) + 1 * (16) +1\n",
    "d= 0x111\n",
    "\n",
    "#1 * (16*16*16) + 1 * (16*16) +1 * (16) +1\n",
    "e= 0x1111\n",
    "\n",
    "print(a)\n",
    "print(b)\n",
    "print(c)\n",
    "print(d)\n",
    "print(e)\n"
   ]
  },
  {
   "cell_type": "code",
   "execution_count": null,
   "metadata": {},
   "outputs": [],
   "source": [
    "#사칙연산\n",
    "\n",
    "a = 3\n",
    "b = 4\n",
    "\n",
    "print(a+b)\n",
    "print(a-b)\n",
    "print(a*b)\n",
    "print(a/b)"
   ]
  },
  {
   "cell_type": "code",
   "execution_count": null,
   "metadata": {},
   "outputs": [],
   "source": [
    "# x의 y제곱을 나타내는 **연산자\n",
    "\n",
    "a = 3\n",
    "b = 4\n",
    "\n",
    "print(a ** b)\n",
    "\n",
    "#2의 3승\n",
    "print(2**3)\n",
    "\n",
    "#4의 3승\n",
    "print(4**3)"
   ]
  },
  {
   "cell_type": "code",
   "execution_count": null,
   "metadata": {},
   "outputs": [],
   "source": [
    "# 나머지를 리턴하는 % 연산자 \n",
    "\n",
    "a = 7\n",
    "b = 3\n",
    "\n",
    "print(a % b)\n",
    "print(5 % 2)"
   ]
  },
  {
   "cell_type": "code",
   "execution_count": null,
   "metadata": {},
   "outputs": [],
   "source": [
    "# 몫을 구하는 // 연산자 \n",
    "a = 7\n",
    "b = 3\n",
    "\n",
    "print(a//b)\n",
    "print(a/b)"
   ]
  },
  {
   "cell_type": "code",
   "execution_count": null,
   "metadata": {},
   "outputs": [],
   "source": [
    "a = \"123\"\n",
    "b = 123\n",
    "c = int(a)\n",
    " \n",
    "print(type(a))\n",
    "print(type(b))\n",
    "\n",
    "print(a)\n",
    "print(c)\n",
    "print(type(c))\n"
   ]
  },
  {
   "cell_type": "code",
   "execution_count": null,
   "metadata": {},
   "outputs": [],
   "source": [
    "a = input ()\n",
    "print(a)"
   ]
  },
  {
   "cell_type": "code",
   "execution_count": null,
   "metadata": {},
   "outputs": [],
   "source": [
    "b= input (\"숫자를 입력하시오\")\n",
    "print(b)\n",
    "print(type(b))"
   ]
  },
  {
   "cell_type": "code",
   "execution_count": null,
   "metadata": {},
   "outputs": [],
   "source": [
    "c = int (input(\"숫자를 입력\"))\n",
    "print(c+10)"
   ]
  },
  {
   "cell_type": "code",
   "execution_count": null,
   "metadata": {},
   "outputs": [],
   "source": [
    "d = input(\"숫자로 입력\")\n",
    "print(int(d)+10)"
   ]
  }
 ],
 "metadata": {
  "kernelspec": {
   "display_name": "Python 3",
   "language": "python",
   "name": "python3"
  },
  "language_info": {
   "codemirror_mode": {
    "name": "ipython",
    "version": 3
   },
   "file_extension": ".py",
   "mimetype": "text/x-python",
   "name": "python",
   "nbconvert_exporter": "python",
   "pygments_lexer": "ipython3",
   "version": "3.12.4"
  }
 },
 "nbformat": 4,
 "nbformat_minor": 2
}
