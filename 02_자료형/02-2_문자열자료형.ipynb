{
 "cells": [
  {
   "cell_type": "markdown",
   "metadata": {},
   "source": [
    "### 문자열은 어떻게 사용할까?\n",
    "\n",
    " * \"문자열\""
   ]
  },
  {
   "cell_type": "code",
   "execution_count": 2,
   "metadata": {},
   "outputs": [
    {
     "name": "stdout",
     "output_type": "stream",
     "text": [
      "hello world\n",
      "<class 'str'>\n"
     ]
    }
   ],
   "source": [
    "# 큰 따옴표\n",
    "a = \"hello world\"\n",
    "print(a)\n",
    "print(type(a))"
   ]
  },
  {
   "cell_type": "code",
   "execution_count": 3,
   "metadata": {},
   "outputs": [
    {
     "name": "stdout",
     "output_type": "stream",
     "text": [
      "python is fun\n",
      "<class 'str'>\n"
     ]
    }
   ],
   "source": [
    "# 작은 따옴표\n",
    "#파워 bi (''는 테이블을 불러올때 /\"\"는 문자열 쓸 때)\n",
    "#하지만 파이썬은 구분x\n",
    "\n",
    "b= 'python is fun'\n",
    "print(b)\n",
    "print(type(b))"
   ]
  },
  {
   "cell_type": "code",
   "execution_count": 5,
   "metadata": {},
   "outputs": [
    {
     "name": "stdout",
     "output_type": "stream",
     "text": [
      " life is too short, you need python \n",
      "<class 'str'>\n"
     ]
    }
   ],
   "source": [
    "# 큰따옴표 3개\n",
    "c = \"\"\" life is too short, you need python \"\"\"\n",
    "\n",
    "print(c)\n",
    "print(type(c))"
   ]
  },
  {
   "cell_type": "code",
   "execution_count": 6,
   "metadata": {},
   "outputs": [
    {
     "name": "stdout",
     "output_type": "stream",
     "text": [
      " life is too short, you need python \n",
      "<class 'str'>\n"
     ]
    }
   ],
   "source": [
    "#작은 따옴표 3개\n",
    "\n",
    "d= ''' life is too short, you need python '''\n",
    "\n",
    "print(d)\n",
    "print(type(d))"
   ]
  },
  {
   "cell_type": "code",
   "execution_count": 7,
   "metadata": {},
   "outputs": [
    {
     "name": "stdout",
     "output_type": "stream",
     "text": [
      "python's food is perl\n"
     ]
    }
   ],
   "source": [
    "food = \"python's food is perl\"\n",
    "print(food)"
   ]
  },
  {
   "cell_type": "code",
   "execution_count": 8,
   "metadata": {},
   "outputs": [
    {
     "ename": "SyntaxError",
     "evalue": "unterminated string literal (detected at line 1) (1272912282.py, line 1)",
     "output_type": "error",
     "traceback": [
      "\u001b[1;36m  Cell \u001b[1;32mIn[8], line 1\u001b[1;36m\u001b[0m\n\u001b[1;33m    food = 'python's food is perl'\u001b[0m\n\u001b[1;37m                                 ^\u001b[0m\n\u001b[1;31mSyntaxError\u001b[0m\u001b[1;31m:\u001b[0m unterminated string literal (detected at line 1)\n"
     ]
    }
   ],
   "source": [
    "food = 'python's food is perl'\n",
    "print(food)"
   ]
  },
  {
   "cell_type": "code",
   "execution_count": 10,
   "metadata": {},
   "outputs": [
    {
     "name": "stdout",
     "output_type": "stream",
     "text": [
      "\"python is very easy\" he says.\n"
     ]
    }
   ],
   "source": [
    "say = '\"python is very easy\" he says.'\n",
    "print(say)"
   ]
  },
  {
   "cell_type": "code",
   "execution_count": 11,
   "metadata": {},
   "outputs": [
    {
     "name": "stdout",
     "output_type": "stream",
     "text": [
      " python's favorite food is perl\n",
      "\"python is very easy.\" he says.\n"
     ]
    }
   ],
   "source": [
    "food = ' python\\'s favorite food is perl'\n",
    "say = \"\\\"python is very easy.\\\" he says.\"\n",
    "\n",
    "print(food)\n",
    "print(say)"
   ]
  },
  {
   "cell_type": "markdown",
   "metadata": {},
   "source": [
    "### 여러 줄 문자열 표현"
   ]
  },
  {
   "cell_type": "code",
   "execution_count": 13,
   "metadata": {},
   "outputs": [
    {
     "name": "stdout",
     "output_type": "stream",
     "text": [
      "life is too short \n",
      "You need python\n"
     ]
    }
   ],
   "source": [
    "# 이스케이프 코드 \\n (줄바꿈 코드)\n",
    "\n",
    "multiline = \"life is too short \\nYou need python\"\n",
    "print(multiline)"
   ]
  },
  {
   "cell_type": "code",
   "execution_count": 19,
   "metadata": {},
   "outputs": [
    {
     "name": "stdout",
     "output_type": "stream",
     "text": [
      " \n",
      "\"life\" is 'too' short\n",
      "you need python\n",
      "\n"
     ]
    }
   ],
   "source": [
    "# 작은 따옴표 3개, 큰 따옴표 3개 활용\n",
    "\n",
    "multiline = ''' \n",
    "\"life\" is 'too' short\n",
    "you need python\n",
    "'''\n",
    "print(multiline)\n",
    "\n",
    "# tab => 띄어쓰기 4칸과 동일\n",
    "# 드래그 한 채로 tab => 동시에 가능\n",
    "# 드래그 한 채로 tab + shift => 동시에 취소 가능"
   ]
  },
  {
   "cell_type": "markdown",
   "metadata": {},
   "source": [
    "### 문자열 연산"
   ]
  },
  {
   "cell_type": "code",
   "execution_count": 21,
   "metadata": {},
   "outputs": [
    {
     "name": "stdout",
     "output_type": "stream",
     "text": [
      "python is fun!\n"
     ]
    }
   ],
   "source": [
    "# 문자열 더하기\n",
    "\n",
    "head = \"python\"\n",
    "tail = \" is fun!\"\n",
    "\n",
    "print(head + tail)"
   ]
  },
  {
   "cell_type": "code",
   "execution_count": 22,
   "metadata": {},
   "outputs": [
    {
     "name": "stdout",
     "output_type": "stream",
     "text": [
      "pythonpythonpythonpythonpython\n"
     ]
    }
   ],
   "source": [
    "# 문자열 곱하기\n",
    "\n",
    "a = \"python\"\n",
    "\n",
    "print(a * 5)"
   ]
  },
  {
   "cell_type": "code",
   "execution_count": 25,
   "metadata": {},
   "outputs": [
    {
     "name": "stdout",
     "output_type": "stream",
     "text": [
      "===================================\n",
      "==================================================\n",
      "my program\n",
      "============================================================\n"
     ]
    }
   ],
   "source": [
    "print(\"===================================\")\n",
    "print(\"=\"*50)\n",
    "print(\"my program\")\n",
    "print(\"=\"*60)"
   ]
  },
  {
   "cell_type": "code",
   "execution_count": 26,
   "metadata": {},
   "outputs": [
    {
     "data": {
      "text/plain": [
       "17"
      ]
     },
     "execution_count": 26,
     "metadata": {},
     "output_type": "execute_result"
    }
   ],
   "source": [
    "# 문자열 길이 구하기 len()\n",
    "\n",
    "a = \"Life is too short\"\n",
    "len(a)"
   ]
  },
  {
   "cell_type": "markdown",
   "metadata": {},
   "source": [
    "### 문자열 인덱싱과 슬라이싱"
   ]
  },
  {
   "cell_type": "code",
   "execution_count": 34,
   "metadata": {},
   "outputs": [
    {
     "name": "stdout",
     "output_type": "stream",
     "text": [
      "29\n",
      "l\n",
      "i\n",
      "n\n",
      "life\n"
     ]
    }
   ],
   "source": [
    "a = \"life is short you need python\"\n",
    "\n",
    "print(len(a))\n",
    "print(a[0])\n",
    "print(a[1])\n",
    "print(a[-1])\n",
    "print(a[0] + a[1] + a[2] + a[3])"
   ]
  },
  {
   "cell_type": "code",
   "execution_count": 44,
   "metadata": {},
   "outputs": [
    {
     "name": "stdout",
     "output_type": "stream",
     "text": [
      "life\n",
      "life is\n",
      "short\n"
     ]
    }
   ],
   "source": [
    "a = \"life is too short you need python\"\n",
    "\n",
    "print(a[0:4])\n",
    "print(a[0:7])\n",
    "print(a[12:17])"
   ]
  },
  {
   "cell_type": "code",
   "execution_count": 51,
   "metadata": {},
   "outputs": [
    {
     "name": "stdout",
     "output_type": "stream",
     "text": [
      "you need python\n",
      "you need python\n",
      "==================================================\n",
      "life is too short\n",
      "life is too short\n",
      "life is too short, you need python\n"
     ]
    }
   ],
   "source": [
    "a = \"life is too short, you need python\"\n",
    "\n",
    "print(a[19:34])\n",
    "print(a[19:])\n",
    "print(\"=\"* 50)\n",
    "\n",
    "print(a[0:17])\n",
    "print(a[:17])\n",
    "\n",
    "print(a[:])\n"
   ]
  }
 ],
 "metadata": {
  "kernelspec": {
   "display_name": "Python 3",
   "language": "python",
   "name": "python3"
  },
  "language_info": {
   "codemirror_mode": {
    "name": "ipython",
    "version": 3
   },
   "file_extension": ".py",
   "mimetype": "text/x-python",
   "name": "python",
   "nbconvert_exporter": "python",
   "pygments_lexer": "ipython3",
   "version": "3.12.4"
  }
 },
 "nbformat": 4,
 "nbformat_minor": 2
}
